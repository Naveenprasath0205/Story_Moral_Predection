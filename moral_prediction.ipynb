{
 "cells": [
  {
   "cell_type": "code",
   "execution_count": 1,
   "id": "7e490dc0-b31a-440c-827d-d70eed995dc9",
   "metadata": {
    "id": "7e490dc0-b31a-440c-827d-d70eed995dc9"
   },
   "outputs": [],
   "source": [
    "import pandas as pd\n",
    "#RawData = pd.read_csv(\"/content/drive/MyDrive/Datasets/consumer_complaints.csv\",encoding='latin-1')\n",
    "RawData = pd.read_csv(\"story1.csv\",encoding='latin-1')"
   ]
  },
  {
   "cell_type": "code",
   "execution_count": 2,
   "id": "0cab6d7f-5527-41d1-8dd5-41a0b6687f12",
   "metadata": {
    "colab": {
     "base_uri": "https://localhost:8080/"
    },
    "id": "0cab6d7f-5527-41d1-8dd5-41a0b6687f12",
    "outputId": "4d74e129-0ab2-4ab7-a552-d680da6c710a"
   },
   "outputs": [
    {
     "data": {
      "text/plain": [
       "(49, 4)"
      ]
     },
     "execution_count": 2,
     "metadata": {},
     "output_type": "execute_result"
    }
   ],
   "source": [
    "RawData.shape"
   ]
  },
  {
   "cell_type": "code",
   "execution_count": 3,
   "id": "74d4dbb8-8b30-4d44-a225-43136fe12532",
   "metadata": {
    "colab": {
     "base_uri": "https://localhost:8080/",
     "height": 206
    },
    "id": "74d4dbb8-8b30-4d44-a225-43136fe12532",
    "outputId": "5aed6b0c-86aa-4546-9141-86b68a10028e"
   },
   "outputs": [
    {
     "data": {
      "text/html": [
       "<div>\n",
       "<style scoped>\n",
       "    .dataframe tbody tr th:only-of-type {\n",
       "        vertical-align: middle;\n",
       "    }\n",
       "\n",
       "    .dataframe tbody tr th {\n",
       "        vertical-align: top;\n",
       "    }\n",
       "\n",
       "    .dataframe thead th {\n",
       "        text-align: right;\n",
       "    }\n",
       "</style>\n",
       "<table border=\"1\" class=\"dataframe\">\n",
       "  <thead>\n",
       "    <tr style=\"text-align: right;\">\n",
       "      <th></th>\n",
       "      <th>Story</th>\n",
       "      <th>Title</th>\n",
       "      <th>Moral</th>\n",
       "      <th>Keyword</th>\n",
       "    </tr>\n",
       "  </thead>\n",
       "  <tbody>\n",
       "    <tr>\n",
       "      <th>0</th>\n",
       "      <td>Once upon a time in a bustling city, there was...</td>\n",
       "      <td>The Curious Explorer</td>\n",
       "      <td>Curiosity can lead to great achievements.</td>\n",
       "      <td>Curiosity</td>\n",
       "    </tr>\n",
       "    <tr>\n",
       "      <th>1</th>\n",
       "      <td>In a small village, there was a poor farmer wh...</td>\n",
       "      <td>The Hidden Treasure</td>\n",
       "      <td>Hard work and perseverance can reveal unexpect...</td>\n",
       "      <td>Perseverance</td>\n",
       "    </tr>\n",
       "    <tr>\n",
       "      <th>2</th>\n",
       "      <td>A diligent student spent every night studying ...</td>\n",
       "      <td>The Dedicated Student</td>\n",
       "      <td>Dedication and discipline lead to success.</td>\n",
       "      <td>Dedication</td>\n",
       "    </tr>\n",
       "    <tr>\n",
       "      <th>3</th>\n",
       "      <td>In a dense forest, a clever fox was always out...</td>\n",
       "      <td>The Clever Fox</td>\n",
       "      <td>Cleverness can overcome strength.</td>\n",
       "      <td>Cleverness</td>\n",
       "    </tr>\n",
       "    <tr>\n",
       "      <th>4</th>\n",
       "      <td>A kind-hearted woman rescued a stray dog from ...</td>\n",
       "      <td>The Loyal Companion</td>\n",
       "      <td>Kindness is often returned with loyalty and love.</td>\n",
       "      <td>Kindness</td>\n",
       "    </tr>\n",
       "  </tbody>\n",
       "</table>\n",
       "</div>"
      ],
      "text/plain": [
       "                                               Story                  Title  \\\n",
       "0  Once upon a time in a bustling city, there was...   The Curious Explorer   \n",
       "1  In a small village, there was a poor farmer wh...    The Hidden Treasure   \n",
       "2  A diligent student spent every night studying ...  The Dedicated Student   \n",
       "3  In a dense forest, a clever fox was always out...         The Clever Fox   \n",
       "4  A kind-hearted woman rescued a stray dog from ...    The Loyal Companion   \n",
       "\n",
       "                                               Moral       Keyword  \n",
       "0          Curiosity can lead to great achievements.     Curiosity  \n",
       "1  Hard work and perseverance can reveal unexpect...  Perseverance  \n",
       "2         Dedication and discipline lead to success.    Dedication  \n",
       "3                  Cleverness can overcome strength.    Cleverness  \n",
       "4  Kindness is often returned with loyalty and love.      Kindness  "
      ]
     },
     "execution_count": 3,
     "metadata": {},
     "output_type": "execute_result"
    }
   ],
   "source": [
    "RawData.head()"
   ]
  },
  {
   "cell_type": "code",
   "execution_count": 4,
   "id": "7162ce86-0701-40bb-bc65-a52ad170bd84",
   "metadata": {
    "colab": {
     "base_uri": "https://localhost:8080/",
     "height": 206
    },
    "id": "7162ce86-0701-40bb-bc65-a52ad170bd84",
    "outputId": "59b786cc-4bdd-4245-85bd-dc21aef62485"
   },
   "outputs": [
    {
     "data": {
      "text/html": [
       "<div>\n",
       "<style scoped>\n",
       "    .dataframe tbody tr th:only-of-type {\n",
       "        vertical-align: middle;\n",
       "    }\n",
       "\n",
       "    .dataframe tbody tr th {\n",
       "        vertical-align: top;\n",
       "    }\n",
       "\n",
       "    .dataframe thead th {\n",
       "        text-align: right;\n",
       "    }\n",
       "</style>\n",
       "<table border=\"1\" class=\"dataframe\">\n",
       "  <thead>\n",
       "    <tr style=\"text-align: right;\">\n",
       "      <th></th>\n",
       "      <th>Story</th>\n",
       "      <th>Keyword</th>\n",
       "    </tr>\n",
       "  </thead>\n",
       "  <tbody>\n",
       "    <tr>\n",
       "      <th>0</th>\n",
       "      <td>Once upon a time in a bustling city, there was...</td>\n",
       "      <td>Curiosity</td>\n",
       "    </tr>\n",
       "    <tr>\n",
       "      <th>1</th>\n",
       "      <td>In a small village, there was a poor farmer wh...</td>\n",
       "      <td>Perseverance</td>\n",
       "    </tr>\n",
       "    <tr>\n",
       "      <th>2</th>\n",
       "      <td>A diligent student spent every night studying ...</td>\n",
       "      <td>Dedication</td>\n",
       "    </tr>\n",
       "    <tr>\n",
       "      <th>3</th>\n",
       "      <td>In a dense forest, a clever fox was always out...</td>\n",
       "      <td>Cleverness</td>\n",
       "    </tr>\n",
       "    <tr>\n",
       "      <th>4</th>\n",
       "      <td>A kind-hearted woman rescued a stray dog from ...</td>\n",
       "      <td>Kindness</td>\n",
       "    </tr>\n",
       "  </tbody>\n",
       "</table>\n",
       "</div>"
      ],
      "text/plain": [
       "                                               Story       Keyword\n",
       "0  Once upon a time in a bustling city, there was...     Curiosity\n",
       "1  In a small village, there was a poor farmer wh...  Perseverance\n",
       "2  A diligent student spent every night studying ...    Dedication\n",
       "3  In a dense forest, a clever fox was always out...    Cleverness\n",
       "4  A kind-hearted woman rescued a stray dog from ...      Kindness"
      ]
     },
     "execution_count": 4,
     "metadata": {},
     "output_type": "execute_result"
    }
   ],
   "source": [
    "#store product, complaints in data\n",
    "Data = RawData[['Story','Keyword']]\n",
    "Data = pd.concat([Data] * 100, ignore_index=True)\n",
    "Data.head()"
   ]
  },
  {
   "cell_type": "code",
   "execution_count": 5,
   "id": "84c91b99-9d3f-4bd1-9461-118cdce844f8",
   "metadata": {
    "colab": {
     "base_uri": "https://localhost:8080/"
    },
    "id": "84c91b99-9d3f-4bd1-9461-118cdce844f8",
    "outputId": "37aadfe0-b99c-42d7-8a8c-4ae9cabcf328"
   },
   "outputs": [
    {
     "data": {
      "text/plain": [
       "(4900, 2)"
      ]
     },
     "execution_count": 5,
     "metadata": {},
     "output_type": "execute_result"
    }
   ],
   "source": [
    "Data.shape"
   ]
  },
  {
   "cell_type": "code",
   "execution_count": 6,
   "id": "1732c804-b808-4dea-9ae3-5a1e762e8d1d",
   "metadata": {
    "colab": {
     "base_uri": "https://localhost:8080/",
     "height": 423
    },
    "id": "1732c804-b808-4dea-9ae3-5a1e762e8d1d",
    "outputId": "578f1d7d-f39c-4772-b55c-6f6e17ed74c4"
   },
   "outputs": [
    {
     "data": {
      "text/html": [
       "<div>\n",
       "<style scoped>\n",
       "    .dataframe tbody tr th:only-of-type {\n",
       "        vertical-align: middle;\n",
       "    }\n",
       "\n",
       "    .dataframe tbody tr th {\n",
       "        vertical-align: top;\n",
       "    }\n",
       "\n",
       "    .dataframe thead th {\n",
       "        text-align: right;\n",
       "    }\n",
       "</style>\n",
       "<table border=\"1\" class=\"dataframe\">\n",
       "  <thead>\n",
       "    <tr style=\"text-align: right;\">\n",
       "      <th></th>\n",
       "      <th>Story</th>\n",
       "      <th>Keyword</th>\n",
       "    </tr>\n",
       "  </thead>\n",
       "  <tbody>\n",
       "    <tr>\n",
       "      <th>0</th>\n",
       "      <td>Once upon a time in a bustling city, there was...</td>\n",
       "      <td>Curiosity</td>\n",
       "    </tr>\n",
       "    <tr>\n",
       "      <th>1</th>\n",
       "      <td>In a small village, there was a poor farmer wh...</td>\n",
       "      <td>Perseverance</td>\n",
       "    </tr>\n",
       "    <tr>\n",
       "      <th>2</th>\n",
       "      <td>A diligent student spent every night studying ...</td>\n",
       "      <td>Dedication</td>\n",
       "    </tr>\n",
       "    <tr>\n",
       "      <th>3</th>\n",
       "      <td>In a dense forest, a clever fox was always out...</td>\n",
       "      <td>Cleverness</td>\n",
       "    </tr>\n",
       "    <tr>\n",
       "      <th>4</th>\n",
       "      <td>A kind-hearted woman rescued a stray dog from ...</td>\n",
       "      <td>Kindness</td>\n",
       "    </tr>\n",
       "    <tr>\n",
       "      <th>...</th>\n",
       "      <td>...</td>\n",
       "      <td>...</td>\n",
       "    </tr>\n",
       "    <tr>\n",
       "      <th>4895</th>\n",
       "      <td>A passionate gardener nurtured a community gar...</td>\n",
       "      <td>Dedication</td>\n",
       "    </tr>\n",
       "    <tr>\n",
       "      <th>4896</th>\n",
       "      <td>A talented actor trained extensively for his r...</td>\n",
       "      <td>Dedication</td>\n",
       "    </tr>\n",
       "    <tr>\n",
       "      <th>4897</th>\n",
       "      <td>A diligent researcher studied the effects of c...</td>\n",
       "      <td>Diligence</td>\n",
       "    </tr>\n",
       "    <tr>\n",
       "      <th>4898</th>\n",
       "      <td>A loving pet owner cared for her animals with ...</td>\n",
       "      <td>Affection</td>\n",
       "    </tr>\n",
       "    <tr>\n",
       "      <th>4899</th>\n",
       "      <td>A talented photographer captured breathtaking ...</td>\n",
       "      <td>Creativity</td>\n",
       "    </tr>\n",
       "  </tbody>\n",
       "</table>\n",
       "<p>4900 rows × 2 columns</p>\n",
       "</div>"
      ],
      "text/plain": [
       "                                                  Story       Keyword\n",
       "0     Once upon a time in a bustling city, there was...     Curiosity\n",
       "1     In a small village, there was a poor farmer wh...  Perseverance\n",
       "2     A diligent student spent every night studying ...    Dedication\n",
       "3     In a dense forest, a clever fox was always out...    Cleverness\n",
       "4     A kind-hearted woman rescued a stray dog from ...      Kindness\n",
       "...                                                 ...           ...\n",
       "4895  A passionate gardener nurtured a community gar...    Dedication\n",
       "4896  A talented actor trained extensively for his r...    Dedication\n",
       "4897  A diligent researcher studied the effects of c...     Diligence\n",
       "4898  A loving pet owner cared for her animals with ...     Affection\n",
       "4899  A talented photographer captured breathtaking ...    Creativity\n",
       "\n",
       "[4900 rows x 2 columns]"
      ]
     },
     "execution_count": 6,
     "metadata": {},
     "output_type": "execute_result"
    }
   ],
   "source": [
    "Data[Data['Story'].notnull()]"
   ]
  },
  {
   "cell_type": "code",
   "execution_count": 7,
   "id": "67944f20-5f3e-41f3-b76e-034cf7cbde68",
   "metadata": {
    "id": "67944f20-5f3e-41f3-b76e-034cf7cbde68"
   },
   "outputs": [],
   "source": [
    "Data = Data[pd.notnull(Data['Story'])]"
   ]
  },
  {
   "cell_type": "code",
   "execution_count": 8,
   "id": "4fa2d00a-f4b1-48a4-96a4-8443227e21f6",
   "metadata": {
    "colab": {
     "base_uri": "https://localhost:8080/",
     "height": 206
    },
    "id": "4fa2d00a-f4b1-48a4-96a4-8443227e21f6",
    "outputId": "7a3032ed-6e66-4118-e9ac-4ee8aaae9ff8"
   },
   "outputs": [
    {
     "data": {
      "text/html": [
       "<div>\n",
       "<style scoped>\n",
       "    .dataframe tbody tr th:only-of-type {\n",
       "        vertical-align: middle;\n",
       "    }\n",
       "\n",
       "    .dataframe tbody tr th {\n",
       "        vertical-align: top;\n",
       "    }\n",
       "\n",
       "    .dataframe thead th {\n",
       "        text-align: right;\n",
       "    }\n",
       "</style>\n",
       "<table border=\"1\" class=\"dataframe\">\n",
       "  <thead>\n",
       "    <tr style=\"text-align: right;\">\n",
       "      <th></th>\n",
       "      <th>Story</th>\n",
       "      <th>Keyword</th>\n",
       "    </tr>\n",
       "  </thead>\n",
       "  <tbody>\n",
       "    <tr>\n",
       "      <th>0</th>\n",
       "      <td>Once upon a time in a bustling city, there was...</td>\n",
       "      <td>Curiosity</td>\n",
       "    </tr>\n",
       "    <tr>\n",
       "      <th>1</th>\n",
       "      <td>In a small village, there was a poor farmer wh...</td>\n",
       "      <td>Perseverance</td>\n",
       "    </tr>\n",
       "    <tr>\n",
       "      <th>2</th>\n",
       "      <td>A diligent student spent every night studying ...</td>\n",
       "      <td>Dedication</td>\n",
       "    </tr>\n",
       "    <tr>\n",
       "      <th>3</th>\n",
       "      <td>In a dense forest, a clever fox was always out...</td>\n",
       "      <td>Cleverness</td>\n",
       "    </tr>\n",
       "    <tr>\n",
       "      <th>4</th>\n",
       "      <td>A kind-hearted woman rescued a stray dog from ...</td>\n",
       "      <td>Kindness</td>\n",
       "    </tr>\n",
       "  </tbody>\n",
       "</table>\n",
       "</div>"
      ],
      "text/plain": [
       "                                               Story       Keyword\n",
       "0  Once upon a time in a bustling city, there was...     Curiosity\n",
       "1  In a small village, there was a poor farmer wh...  Perseverance\n",
       "2  A diligent student spent every night studying ...    Dedication\n",
       "3  In a dense forest, a clever fox was always out...    Cleverness\n",
       "4  A kind-hearted woman rescued a stray dog from ...      Kindness"
      ]
     },
     "execution_count": 8,
     "metadata": {},
     "output_type": "execute_result"
    }
   ],
   "source": [
    "Data.head()"
   ]
  },
  {
   "cell_type": "code",
   "execution_count": 9,
   "id": "9a968ff2-e8e0-400f-86be-e0a73d735da4",
   "metadata": {
    "colab": {
     "base_uri": "https://localhost:8080/"
    },
    "id": "9a968ff2-e8e0-400f-86be-e0a73d735da4",
    "outputId": "2b631ed6-6b1e-49b6-aa0a-73c2e2c89992"
   },
   "outputs": [
    {
     "data": {
      "text/plain": [
       "(4900, 2)"
      ]
     },
     "execution_count": 9,
     "metadata": {},
     "output_type": "execute_result"
    }
   ],
   "source": [
    "Data.shape"
   ]
  },
  {
   "cell_type": "code",
   "execution_count": 10,
   "id": "33bf96ea-f81f-4997-bfb0-692c79840204",
   "metadata": {
    "id": "33bf96ea-f81f-4997-bfb0-692c79840204"
   },
   "outputs": [],
   "source": [
    "import re\n",
    "\n",
    "def clean_sentence(sentence):\n",
    "\n",
    "    # Remove numbers\n",
    "    sentence = re.sub(r'\\d+', '', sentence)\n",
    "\n",
    "    # Remove special characters and punctuation (except for spaces)\n",
    "    sentence = re.sub(r'[^\\w\\s]', '', sentence)\n",
    "\n",
    "    # Convert to lowercase\n",
    "    sentence = sentence.lower()\n",
    "\n",
    "    # Remove extra whitespace\n",
    "    sentence = sentence.strip()\n",
    "    # Remove sequences of 'x' that are 3 or more characters long\n",
    "    sentence = re.sub(r'x{2,}', '', sentence)\n",
    "\n",
    "    return sentence"
   ]
  },
  {
   "cell_type": "code",
   "execution_count": 11,
   "id": "4842b229-fd53-4bf8-bac1-2ddb2412b24c",
   "metadata": {
    "id": "4842b229-fd53-4bf8-bac1-2ddb2412b24c"
   },
   "outputs": [],
   "source": [
    "Data['clean'] = Data['Story']"
   ]
  },
  {
   "cell_type": "code",
   "execution_count": 12,
   "id": "6f8fec2f-bb16-4cbe-b7b7-fbe4f7ff7b8e",
   "metadata": {
    "colab": {
     "base_uri": "https://localhost:8080/",
     "height": 206
    },
    "id": "6f8fec2f-bb16-4cbe-b7b7-fbe4f7ff7b8e",
    "outputId": "aecfacaf-34c4-42f3-e0d4-0d93f3b2f63f"
   },
   "outputs": [
    {
     "data": {
      "text/html": [
       "<div>\n",
       "<style scoped>\n",
       "    .dataframe tbody tr th:only-of-type {\n",
       "        vertical-align: middle;\n",
       "    }\n",
       "\n",
       "    .dataframe tbody tr th {\n",
       "        vertical-align: top;\n",
       "    }\n",
       "\n",
       "    .dataframe thead th {\n",
       "        text-align: right;\n",
       "    }\n",
       "</style>\n",
       "<table border=\"1\" class=\"dataframe\">\n",
       "  <thead>\n",
       "    <tr style=\"text-align: right;\">\n",
       "      <th></th>\n",
       "      <th>Story</th>\n",
       "      <th>Keyword</th>\n",
       "      <th>clean</th>\n",
       "    </tr>\n",
       "  </thead>\n",
       "  <tbody>\n",
       "    <tr>\n",
       "      <th>0</th>\n",
       "      <td>Once upon a time in a bustling city, there was...</td>\n",
       "      <td>Curiosity</td>\n",
       "      <td>Once upon a time in a bustling city, there was...</td>\n",
       "    </tr>\n",
       "    <tr>\n",
       "      <th>1</th>\n",
       "      <td>In a small village, there was a poor farmer wh...</td>\n",
       "      <td>Perseverance</td>\n",
       "      <td>In a small village, there was a poor farmer wh...</td>\n",
       "    </tr>\n",
       "    <tr>\n",
       "      <th>2</th>\n",
       "      <td>A diligent student spent every night studying ...</td>\n",
       "      <td>Dedication</td>\n",
       "      <td>A diligent student spent every night studying ...</td>\n",
       "    </tr>\n",
       "    <tr>\n",
       "      <th>3</th>\n",
       "      <td>In a dense forest, a clever fox was always out...</td>\n",
       "      <td>Cleverness</td>\n",
       "      <td>In a dense forest, a clever fox was always out...</td>\n",
       "    </tr>\n",
       "    <tr>\n",
       "      <th>4</th>\n",
       "      <td>A kind-hearted woman rescued a stray dog from ...</td>\n",
       "      <td>Kindness</td>\n",
       "      <td>A kind-hearted woman rescued a stray dog from ...</td>\n",
       "    </tr>\n",
       "  </tbody>\n",
       "</table>\n",
       "</div>"
      ],
      "text/plain": [
       "                                               Story       Keyword  \\\n",
       "0  Once upon a time in a bustling city, there was...     Curiosity   \n",
       "1  In a small village, there was a poor farmer wh...  Perseverance   \n",
       "2  A diligent student spent every night studying ...    Dedication   \n",
       "3  In a dense forest, a clever fox was always out...    Cleverness   \n",
       "4  A kind-hearted woman rescued a stray dog from ...      Kindness   \n",
       "\n",
       "                                               clean  \n",
       "0  Once upon a time in a bustling city, there was...  \n",
       "1  In a small village, there was a poor farmer wh...  \n",
       "2  A diligent student spent every night studying ...  \n",
       "3  In a dense forest, a clever fox was always out...  \n",
       "4  A kind-hearted woman rescued a stray dog from ...  "
      ]
     },
     "execution_count": 12,
     "metadata": {},
     "output_type": "execute_result"
    }
   ],
   "source": [
    "Data.head()"
   ]
  },
  {
   "cell_type": "code",
   "execution_count": null,
   "id": "36a99937-24f3-4f93-8503-f57942cd7c68",
   "metadata": {},
   "outputs": [],
   "source": []
  },
  {
   "cell_type": "code",
   "execution_count": 13,
   "id": "77cea3f4-ede8-47ff-869e-c4166579eec1",
   "metadata": {
    "colab": {
     "base_uri": "https://localhost:8080/",
     "height": 1000
    },
    "id": "77cea3f4-ede8-47ff-869e-c4166579eec1",
    "outputId": "36f3b9ab-02e1-4fe0-8842-11e5ff798101"
   },
   "outputs": [
    {
     "data": {
      "text/plain": [
       "Keyword\n",
       "Affection         100\n",
       "Bravery           100\n",
       "Cleverness        100\n",
       "Commitment        100\n",
       "Compassion        200\n",
       "Courage           100\n",
       "Creativity        200\n",
       "Curiosity         200\n",
       "Dedication        800\n",
       "Determination     100\n",
       "Diligence         100\n",
       "Empathy           100\n",
       "Generosity        100\n",
       "Guidance          100\n",
       "Innovation        300\n",
       "Kindness          200\n",
       "Knowledge         100\n",
       "Meticulousness    100\n",
       "Passion           100\n",
       "Patience          200\n",
       "Peace             100\n",
       "Perseverance      300\n",
       "Persistence       200\n",
       "Preparation       100\n",
       "Resilience        100\n",
       "Selflessness      100\n",
       "Skill             100\n",
       "Sustainability    100\n",
       "Teamwork          100\n",
       "Wisdom            300\n",
       "Name: Story, dtype: int64"
      ]
     },
     "execution_count": 13,
     "metadata": {},
     "output_type": "execute_result"
    }
   ],
   "source": [
    "Data.groupby('Keyword').Story.count()"
   ]
  },
  {
   "cell_type": "code",
   "execution_count": 14,
   "id": "1ee80f63-0069-489f-bad4-2f795f4cbfce",
   "metadata": {
    "colab": {
     "base_uri": "https://localhost:8080/"
    },
    "id": "1ee80f63-0069-489f-bad4-2f795f4cbfce",
    "outputId": "23289ca7-0f2b-4c16-c710-464888711bc9"
   },
   "outputs": [
    {
     "name": "stdout",
     "output_type": "stream",
     "text": [
      "Encoded Labels: [ 7 21  8  2 15 20 19 14 29  3 12 28  9  5 22  4 16 26 24 23 13 25  6 18\n",
      " 11 17 27  1 10  0]\n",
      "Decoded Labels: ['Curiosity' 'Perseverance' 'Dedication' 'Cleverness' 'Kindness' 'Peace'\n",
      " 'Patience' 'Innovation' 'Wisdom' 'Commitment' 'Generosity' 'Teamwork'\n",
      " 'Determination' 'Courage' 'Persistence' 'Compassion' 'Knowledge' 'Skill'\n",
      " 'Resilience' 'Preparation' 'Guidance' 'Selflessness' 'Creativity'\n",
      " 'Passion' 'Empathy' 'Meticulousness' 'Sustainability' 'Bravery'\n",
      " 'Diligence' 'Affection']\n"
     ]
    }
   ],
   "source": [
    "from sklearn.preprocessing import LabelEncoder\n",
    "\n",
    "label_encoder = LabelEncoder()\n",
    "# Get unique values from the 'product' column and sort them\n",
    "unique_values = Data['Keyword'].unique()\n",
    "\n",
    "# Fit the LabelEncoder with the sorted unique values\n",
    "label_encoder.fit(unique_values)\n",
    "\n",
    "# Transform class labels into encoded integers\n",
    "encoded_labels = label_encoder.transform(Data['Keyword']. unique())\n",
    "\n",
    "print(\"Encoded Labels:\", encoded_labels) # Output: [0 1 2 0 2 1]\n",
    "\n",
    "# Use inverse_transform to convert encoded integers back to original class labels\n",
    "decoded_labels = label_encoder. inverse_transform(encoded_labels)\n",
    "\n",
    "print(\"Decoded Labels:\", decoded_labels) # Output: ['cat' 'dog' 'bird' 'cat' 'bird' 'dog']\n"
   ]
  },
  {
   "cell_type": "code",
   "execution_count": 15,
   "id": "fa658707-dba7-45a6-8af8-886be6452b61",
   "metadata": {
    "colab": {
     "base_uri": "https://localhost:8080/"
    },
    "id": "fa658707-dba7-45a6-8af8-886be6452b61",
    "outputId": "bc2ccd47-e89a-4510-a2cd-da066dcf2fea"
   },
   "outputs": [
    {
     "name": "stdout",
     "output_type": "stream",
     "text": [
      "data tokenized\n"
     ]
    }
   ],
   "source": [
    "from sklearn import preprocessing\n",
    "from sklearn.model_selection import train_test_split\n",
    "from sklearn.model_selection import train_test_split\n",
    "from sklearn.feature_extraction.text import TfidfVectorizer\n",
    "train_x, valid_x, train_y, valid_y = train_test_split(Data['Story'], Data['Keyword'], test_size=0.2, random_state=42)\n",
    "\n",
    "tfidf_vect = TfidfVectorizer(analyzer='word', token_pattern=r'\\w{1,}', max_features=10000)\n",
    "tfidf_vect.fit(Data['clean'])\n",
    "xtrain_final = tfidf_vect.transform(train_x)\n",
    "xvalid_final = tfidf_vect.transform(valid_x)\n",
    "print(\"data tokenized\")"
   ]
  },
  {
   "cell_type": "code",
   "execution_count": 16,
   "id": "ad1c6dec-5db4-4de8-957b-8282b92631e4",
   "metadata": {
    "colab": {
     "base_uri": "https://localhost:8080/"
    },
    "id": "ad1c6dec-5db4-4de8-957b-8282b92631e4",
    "outputId": "bc88445f-18b1-4ab7-8b06-dc29c7f5a347"
   },
   "outputs": [
    {
     "name": "stdout",
     "output_type": "stream",
     "text": [
      "Logistic Regression Accuracy :  100.0\n"
     ]
    }
   ],
   "source": [
    "from sklearn import model_selection , linear_model , metrics\n",
    "from sklearn.linear_model import LogisticRegression\n",
    "\n",
    "#Feature Engineering using TF-IDF\n",
    "encoder = preprocessing.LabelEncoder()\n",
    "train_y = encoder. fit_transform(train_y)\n",
    "valid_y = encoder.fit_transform(valid_y)\n",
    "# Logistic Regressionlr_model = LogisticRegression(max_iter=400, C=1.0)  # Adjust C value\n",
    "\n",
    "lr_model = linear_model.LogisticRegression(max_iter=400, C=1.0).fit(xtrain_final, train_y)\n",
    "\n",
    "accuracy = metrics.accuracy_score(lr_model.predict(xvalid_final),valid_y)\n",
    "print(\"Logistic Regression Accuracy : \",accuracy*100)"
   ]
  },
  {
   "cell_type": "code",
   "execution_count": 17,
   "id": "eH6kbjCtrazl",
   "metadata": {
    "id": "eH6kbjCtrazl"
   },
   "outputs": [],
   "source": [
    "import pickle\n",
    "\n",
    "# Save model\n",
    "with open('logistic_regression_model.pkl', 'wb') as file:\n",
    "    pickle.dump(lr_model, file)\n",
    "\n",
    "# Load model\n",
    "with open('logistic_regression_model.pkl', 'rb') as file:\n",
    "    loaded_model = pickle.load(file)\n"
   ]
  },
  {
   "cell_type": "code",
   "execution_count": 18,
   "id": "24436f55-5dbc-40a8-8fbd-34734cf3f965",
   "metadata": {
    "id": "24436f55-5dbc-40a8-8fbd-34734cf3f965"
   },
   "outputs": [],
   "source": [
    "# Curiosity\n",
    "text1=[\"Once upon a time in a bustling city, there was a young boy who loved to explore. One day, he found a hidden alley filled with old books. He spent hours reading and learning about ancient cultures. Eventually, he grew up to become a renowned historian. His curiosity and love for knowledge led him to great success.\"]\n",
    "# Wisdom\n",
    "text2=[\"In an ancient village, there was a wise old man who always gave sound advice. One day, he helped a young woman solve a personal problem. Her life changed for the better, showing the importance of seeking wisdom from experienced individuals.\"]\n",
    "# Dedication\n",
    "text3=[\"There once was a boy who grew bored while watching over the village sheep. He wanted to make things more exciting. So, he yelled out that he saw a wolf chasing the sheep. All the villagers came running to drive the wolf away. However, they saw no wolf. The boy was amused, but the villagers were not. They told him not to do it again. Shortly after, he repeated this antic. The villagers came running again, only to find that he was lying. Later that day, the boy really sees a wolf sneaking amongst the flock. He jumped up and called out for help. But no one came this time because they thought he was still joking around. At sunset, the villagers looked for the boy. He had not returned with their sheep. They found him crying. He told them that there really was a wolf, and the entire flock was gone. An old man came to comfort him and told him that nobody would believe a liar even when they are being honest.\"]"
   ]
  },
  {
   "cell_type": "code",
   "execution_count": 19,
   "id": "53051d21-3757-46fb-88bf-3846fa82e8d5",
   "metadata": {
    "colab": {
     "base_uri": "https://localhost:8080/"
    },
    "id": "53051d21-3757-46fb-88bf-3846fa82e8d5",
    "outputId": "068bb464-4b96-469e-9a0e-30e065899a16"
   },
   "outputs": [
    {
     "name": "stdout",
     "output_type": "stream",
     "text": [
      "Input  :  there once was a boy who grew bored while watching over the village sheep he wanted to make things more exciting so he yelled out that he saw a wolf chasing the sheep all the villagers came running to drive the wolf away however they saw no wolf the boy was amused but the villagers were not they told him not to do it again shortly after he repeated this antic the villagers came running again only to find that he was lying later that day the boy really sees a wolf sneaking amongst the flock he jumped up and called out for help but no one came this time because they thought he was still joking around at sunset the villagers looked for the boy he had not returned with their sheep they found him crying he told them that there really was a wolf and the entire flock was gone an old man came to comfort him and told him that nobody would believe a liar even when they are being honest\n",
      "Moral  :  Dedication and discipline lead to success.\n"
     ]
    }
   ],
   "source": [
    "import numpy as np\n",
    "#Clean the sample input\n",
    "cleaned_sentence = clean_sentence(text3[0])\n",
    "final = [cleaned_sentence]\n",
    "print(\"Input  : \",final[0])\n",
    "text_features = tfidf_vect.transform(final)\n",
    "\n",
    "def logisticRegression(text_features):\n",
    "    prediction1 = loaded_model.predict(text_features)\n",
    "    decoded_labels = label_encoder. inverse_transform(prediction1)\n",
    "    #print(\"Output : \",decoded_labels[0])\n",
    "    for keyword in decoded_labels:\n",
    "        relevant_morals = RawData[RawData['Keyword'] == keyword]['Moral']\n",
    "        print(\"Moral  : \",relevant_morals.iloc[0])\n",
    "        \n",
    "\n",
    "logisticRegression(text_features)"
   ]
  }
 ],
 "metadata": {
  "colab": {
   "provenance": []
  },
  "kernelspec": {
   "display_name": "Python 3 (ipykernel)",
   "language": "python",
   "name": "python3"
  },
  "language_info": {
   "codemirror_mode": {
    "name": "ipython",
    "version": 3
   },
   "file_extension": ".py",
   "mimetype": "text/x-python",
   "name": "python",
   "nbconvert_exporter": "python",
   "pygments_lexer": "ipython3",
   "version": "3.12.4"
  }
 },
 "nbformat": 4,
 "nbformat_minor": 5
}
